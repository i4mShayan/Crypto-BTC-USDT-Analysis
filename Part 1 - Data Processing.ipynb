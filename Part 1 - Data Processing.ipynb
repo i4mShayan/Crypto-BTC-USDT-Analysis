{
 "cells": [
  {
   "cell_type": "markdown",
   "metadata": {},
   "source": [
    "# Part 1 (Data Collection, Processing, and Resampling)"
   ]
  },
  {
   "cell_type": "markdown",
   "metadata": {},
   "source": [
    "## Imports"
   ]
  },
  {
   "cell_type": "code",
   "execution_count": 3,
   "metadata": {},
   "outputs": [],
   "source": [
    "import requests\n",
    "from abc import ABC, abstractmethod\n",
    "import time\n",
    "import binance\n",
    "import pandas as pd\n",
    "from requests.exceptions import ConnectTimeout\n",
    "from tqdm import tqdm\n",
    "import mplfinance as mpf\n",
    "import os"
   ]
  },
  {
   "cell_type": "markdown",
   "metadata": {},
   "source": [
    "## Constants"
   ]
  },
  {
   "cell_type": "markdown",
   "metadata": {},
   "source": [
    "### Time Intervals"
   ]
  },
  {
   "cell_type": "code",
   "execution_count": 61,
   "metadata": {},
   "outputs": [],
   "source": [
    "from datetime import datetime\n",
    "\n",
    "start_date = datetime(2024, 1, 1)\n",
    "finish_date = datetime(2024, 2, 1)\n",
    "\n",
    "start_seconds = int(start_date.timestamp())\n",
    "finish_seconds = int(finish_date.timestamp())\n",
    "\n",
    "start_ms = int(start_date.timestamp() * 1000)\n",
    "finish_ms = int(finish_date.timestamp() * 1000)"
   ]
  },
  {
   "cell_type": "markdown",
   "metadata": {},
   "source": [
    "### Others"
   ]
  },
  {
   "cell_type": "code",
   "execution_count": 4,
   "metadata": {},
   "outputs": [],
   "source": [
    "DATA_DIR = 'data/raw'"
   ]
  },
  {
   "cell_type": "markdown",
   "metadata": {},
   "source": [
    "## APIs"
   ]
  },
  {
   "cell_type": "markdown",
   "metadata": {},
   "source": [
    "### Nobitex"
   ]
  },
  {
   "cell_type": "code",
   "execution_count": 55,
   "metadata": {},
   "outputs": [],
   "source": [
    "class NobitexAPI(ABC):\n",
    "    base_url = 'https://chart.nobitex.ir'\n",
    "\n",
    "    def __init__(self, data, status, errmsg=None):\n",
    "        self.data = data\n",
    "        self.status = status\n",
    "        self.errmsg = errmsg\n",
    "\n",
    "    def __repr__(self):\n",
    "        return f\"{self.__class__.__name__}(status={self.status}, data={self.data}, errmsg={self.errmsg})\"\n",
    "\n",
    "    @classmethod\n",
    "    @abstractmethod\n",
    "    def fetch(cls, **kwargs):\n",
    "        \"\"\"Fetch data from Nobitex API. Must be implemented by subclasses.\"\"\"\n",
    "        pass\n",
    "\n",
    "    @classmethod\n",
    "    def get(cls, endpoint, params):\n",
    "        \"\"\"Generic GET request method.\"\"\"\n",
    "        url = f\"{cls.base_url}{endpoint}\"\n",
    "        url_with_params = requests.Request('GET', url, params=params).prepare().url\n",
    "        \n",
    "        # Print the full URL with parameters\n",
    "        print(f\"Fetching: {url_with_params}\")\n",
    "        \n",
    "        response = requests.get(url, params=params)\n",
    "        data = response.json()\n",
    "        return data\n",
    "\n",
    "class NobitexMarketHistory(NobitexAPI):\n",
    "    @classmethod\n",
    "    def fetch(cls, symbol, resolution, to, from_=None, countback=None, page=1):\n",
    "        # Ensure resolution is in the correct format\n",
    "        if isinstance(resolution, int):\n",
    "            resolution = str(resolution)\n",
    "\n",
    "        # Define maximum 40-day interval in seconds (40 days * 24 hours * 60 minutes * 60 seconds)\n",
    "        max_interval = 30 * 24 * 60 * 60\n",
    "\n",
    "        data = []\n",
    "        current_from = from_\n",
    "        current_to = min(to, current_from + max_interval)\n",
    "        \n",
    "        while current_from < to:\n",
    "            endpoint = '/market/udf/history'\n",
    "            params = {\n",
    "                'symbol': symbol,\n",
    "                'resolution': resolution,\n",
    "                'from': current_from,\n",
    "                'to': current_to,\n",
    "                'countback': countback,\n",
    "                'page': page\n",
    "            }\n",
    "            params = {k: v for k, v in params.items() if v is not None}\n",
    "            \n",
    "            # Use the generic get method from NobitexAPI\n",
    "            result = cls.get(endpoint, params)\n",
    "            \n",
    "            # Process result\n",
    "            if result.get('s') == 'ok':\n",
    "                # Combine all data fields into a list of dictionaries\n",
    "                combined_data = [\n",
    "                    {\n",
    "                        'open_time': t,\n",
    "                        'open': o,\n",
    "                        'high': h,\n",
    "                        'low': l,\n",
    "                        'close': c,\n",
    "                        'volume': v,\n",
    "                    }\n",
    "                    for t, o, h, l, c, v in zip(result['t'], result['o'], result['h'], result['l'], result['c'], result['v'])\n",
    "                ]\n",
    "                data.extend(combined_data)\n",
    "            elif result.get('s') == 'error':\n",
    "                return cls(data=None, status='error', errmsg=result.get('errmsg'))\n",
    "            elif result.get('s') == 'no_data':\n",
    "                return cls(data=None, status='no_data')\n",
    "            \n",
    "            # Update the from and to timestamps for the next request\n",
    "            current_from = current_to\n",
    "            current_to = min(to, current_from + max_interval)\n",
    "            time.sleep(1)  # Avoid hitting API rate limits\n",
    "\n",
    "        return cls(data=data, status='ok')\n",
    "\n",
    "    def to_dataframe(self):\n",
    "        \"\"\"Convert data to pandas DataFrame with specified columns.\"\"\"\n",
    "        df = pd.DataFrame(self.data)\n",
    "        return df"
   ]
  },
  {
   "cell_type": "code",
   "execution_count": null,
   "metadata": {},
   "outputs": [],
   "source": [
    "nobitex_history = NobitexMarketHistory.fetch(symbol='BTCIRT', resolution='1', from_=start_seconds, to=start_seconds+(30 * 24 * 60 * 60))\n",
    "len(nobitex_history.data)"
   ]
  },
  {
   "cell_type": "markdown",
   "metadata": {},
   "source": [
    "### Binance"
   ]
  },
  {
   "cell_type": "markdown",
   "metadata": {},
   "source": [
    "#### Client"
   ]
  },
  {
   "cell_type": "code",
   "execution_count": 14,
   "metadata": {},
   "outputs": [],
   "source": [
    "binance_client = binance.Client()"
   ]
  },
  {
   "cell_type": "markdown",
   "metadata": {},
   "source": [
    "#### Fetch Data"
   ]
  },
  {
   "cell_type": "code",
   "execution_count": 16,
   "metadata": {},
   "outputs": [],
   "source": [
    "def fetch_binance_data(symbol, interval, start_ms, finish_ms):\n",
    "    all_klines = []\n",
    "\n",
    "    # Approximate number of iterations (assuming 1 minute interval and 1000 klines per request)\n",
    "    total_iterations = (finish_ms - start_ms) // (60000 * 1000)\n",
    "    \n",
    "    with tqdm(total=total_iterations) as pbar:\n",
    "        while True:\n",
    "            try:\n",
    "                klines = binance_client.get_klines(symbol=symbol, interval=interval, startTime=start_ms, endTime=finish_ms, limit=1000)\n",
    "                if not klines:\n",
    "                    print(\"No more data returned.\")\n",
    "                    break\n",
    "\n",
    "                all_klines.extend(klines)\n",
    "                start_ms = klines[-1][6] + 1\n",
    "                pbar.update(1)  # Update the progress bar for each iteration\n",
    "\n",
    "                if klines[-1][6] >= finish_ms:\n",
    "                    print(\"Reached the end of the specified time range.\")\n",
    "                    break\n",
    "            except ConnectTimeout:\n",
    "                print(\"Connection timed out. Retrying...\")\n",
    "                time.sleep(5)\n",
    "            except Exception as e:\n",
    "                print(f\"An error occurred: {e}\")\n",
    "                break\n",
    "\n",
    "    if all_klines:\n",
    "        df = pd.DataFrame(all_klines, columns=['open_time', 'open', 'high', 'low', 'close', 'volume', 'close_time', 'quote_asset_volume', 'number_of_trades', 'taker_buy_base_asset_volume', 'taker_buy_quote_asset_volume', 'ignore'])\n",
    "        df['open_time'] = pd.to_datetime(df['open_time'], unit='ms')\n",
    "        df['close_time'] = pd.to_datetime(df['close_time'], unit='ms')\n",
    "        return df\n",
    "    else:\n",
    "        print(\"No data was fetched.\")\n",
    "        return pd.DataFrame()"
   ]
  },
  {
   "cell_type": "code",
   "execution_count": 52,
   "metadata": {},
   "outputs": [
    {
     "name": "stderr",
     "output_type": "stream",
     "text": [
      "526it [04:24,  1.99it/s]                         \n"
     ]
    },
    {
     "name": "stdout",
     "output_type": "stream",
     "text": [
      "Reached the end of the specified time range.\n"
     ]
    }
   ],
   "source": [
    "symbol = 'BTCUSDT'\n",
    "interval = binance_client.KLINE_INTERVAL_1MINUTE\n",
    "\n",
    "binance_df = fetch_binance_data(symbol, interval, start_ms, finish_ms)"
   ]
  },
  {
   "cell_type": "code",
   "execution_count": 53,
   "metadata": {},
   "outputs": [
    {
     "name": "stdout",
     "output_type": "stream",
     "text": [
      "(525521, 12)\n"
     ]
    },
    {
     "data": {
      "text/html": [
       "<div>\n",
       "<style scoped>\n",
       "    .dataframe tbody tr th:only-of-type {\n",
       "        vertical-align: middle;\n",
       "    }\n",
       "\n",
       "    .dataframe tbody tr th {\n",
       "        vertical-align: top;\n",
       "    }\n",
       "\n",
       "    .dataframe thead th {\n",
       "        text-align: right;\n",
       "    }\n",
       "</style>\n",
       "<table border=\"1\" class=\"dataframe\">\n",
       "  <thead>\n",
       "    <tr style=\"text-align: right;\">\n",
       "      <th></th>\n",
       "      <th>open_time</th>\n",
       "      <th>open</th>\n",
       "      <th>high</th>\n",
       "      <th>low</th>\n",
       "      <th>close</th>\n",
       "      <th>volume</th>\n",
       "      <th>close_time</th>\n",
       "      <th>quote_asset_volume</th>\n",
       "      <th>number_of_trades</th>\n",
       "      <th>taker_buy_base_asset_volume</th>\n",
       "      <th>taker_buy_quote_asset_volume</th>\n",
       "      <th>ignore</th>\n",
       "    </tr>\n",
       "  </thead>\n",
       "  <tbody>\n",
       "    <tr>\n",
       "      <th>0</th>\n",
       "      <td>2022-11-30 20:30:00</td>\n",
       "      <td>17064.40000000</td>\n",
       "      <td>17065.99000000</td>\n",
       "      <td>17047.60000000</td>\n",
       "      <td>17050.44000000</td>\n",
       "      <td>209.86552000</td>\n",
       "      <td>2022-11-30 20:30:59.999</td>\n",
       "      <td>3579674.71396160</td>\n",
       "      <td>4407</td>\n",
       "      <td>79.37261000</td>\n",
       "      <td>1353883.97241390</td>\n",
       "      <td>0</td>\n",
       "    </tr>\n",
       "    <tr>\n",
       "      <th>1</th>\n",
       "      <td>2022-11-30 20:31:00</td>\n",
       "      <td>17050.44000000</td>\n",
       "      <td>17053.84000000</td>\n",
       "      <td>17041.58000000</td>\n",
       "      <td>17050.30000000</td>\n",
       "      <td>337.00599000</td>\n",
       "      <td>2022-11-30 20:31:59.999</td>\n",
       "      <td>5745218.75132600</td>\n",
       "      <td>5183</td>\n",
       "      <td>134.70981000</td>\n",
       "      <td>2296579.72240950</td>\n",
       "      <td>0</td>\n",
       "    </tr>\n",
       "    <tr>\n",
       "      <th>2</th>\n",
       "      <td>2022-11-30 20:32:00</td>\n",
       "      <td>17050.30000000</td>\n",
       "      <td>17058.24000000</td>\n",
       "      <td>17048.29000000</td>\n",
       "      <td>17054.85000000</td>\n",
       "      <td>97.75362000</td>\n",
       "      <td>2022-11-30 20:32:59.999</td>\n",
       "      <td>1667039.76997760</td>\n",
       "      <td>3120</td>\n",
       "      <td>54.26572000</td>\n",
       "      <td>925442.80341800</td>\n",
       "      <td>0</td>\n",
       "    </tr>\n",
       "    <tr>\n",
       "      <th>3</th>\n",
       "      <td>2022-11-30 20:33:00</td>\n",
       "      <td>17054.85000000</td>\n",
       "      <td>17063.32000000</td>\n",
       "      <td>17052.69000000</td>\n",
       "      <td>17061.22000000</td>\n",
       "      <td>98.22312000</td>\n",
       "      <td>2022-11-30 20:33:59.999</td>\n",
       "      <td>1675551.07662580</td>\n",
       "      <td>2885</td>\n",
       "      <td>55.13708000</td>\n",
       "      <td>940602.14092560</td>\n",
       "      <td>0</td>\n",
       "    </tr>\n",
       "    <tr>\n",
       "      <th>4</th>\n",
       "      <td>2022-11-30 20:34:00</td>\n",
       "      <td>17061.22000000</td>\n",
       "      <td>17071.70000000</td>\n",
       "      <td>17059.10000000</td>\n",
       "      <td>17064.20000000</td>\n",
       "      <td>199.67957000</td>\n",
       "      <td>2022-11-30 20:34:59.999</td>\n",
       "      <td>3407625.00355910</td>\n",
       "      <td>3681</td>\n",
       "      <td>120.19123000</td>\n",
       "      <td>2051148.33435440</td>\n",
       "      <td>0</td>\n",
       "    </tr>\n",
       "  </tbody>\n",
       "</table>\n",
       "</div>"
      ],
      "text/plain": [
       "            open_time            open            high             low  \\\n",
       "0 2022-11-30 20:30:00  17064.40000000  17065.99000000  17047.60000000   \n",
       "1 2022-11-30 20:31:00  17050.44000000  17053.84000000  17041.58000000   \n",
       "2 2022-11-30 20:32:00  17050.30000000  17058.24000000  17048.29000000   \n",
       "3 2022-11-30 20:33:00  17054.85000000  17063.32000000  17052.69000000   \n",
       "4 2022-11-30 20:34:00  17061.22000000  17071.70000000  17059.10000000   \n",
       "\n",
       "            close        volume              close_time quote_asset_volume  \\\n",
       "0  17050.44000000  209.86552000 2022-11-30 20:30:59.999   3579674.71396160   \n",
       "1  17050.30000000  337.00599000 2022-11-30 20:31:59.999   5745218.75132600   \n",
       "2  17054.85000000   97.75362000 2022-11-30 20:32:59.999   1667039.76997760   \n",
       "3  17061.22000000   98.22312000 2022-11-30 20:33:59.999   1675551.07662580   \n",
       "4  17064.20000000  199.67957000 2022-11-30 20:34:59.999   3407625.00355910   \n",
       "\n",
       "   number_of_trades taker_buy_base_asset_volume taker_buy_quote_asset_volume  \\\n",
       "0              4407                 79.37261000             1353883.97241390   \n",
       "1              5183                134.70981000             2296579.72240950   \n",
       "2              3120                 54.26572000              925442.80341800   \n",
       "3              2885                 55.13708000              940602.14092560   \n",
       "4              3681                120.19123000             2051148.33435440   \n",
       "\n",
       "  ignore  \n",
       "0      0  \n",
       "1      0  \n",
       "2      0  \n",
       "3      0  \n",
       "4      0  "
      ]
     },
     "execution_count": 53,
     "metadata": {},
     "output_type": "execute_result"
    }
   ],
   "source": [
    "print(binance_df.shape)\n",
    "binance_df.head()"
   ]
  },
  {
   "cell_type": "markdown",
   "metadata": {},
   "source": [
    "#### Save CSV"
   ]
  },
  {
   "cell_type": "code",
   "execution_count": 55,
   "metadata": {},
   "outputs": [],
   "source": [
    "binance_df.to_csv(DATA_DIR + f'Binance-{symbol}.csv')"
   ]
  },
  {
   "cell_type": "markdown",
   "metadata": {},
   "source": [
    "#### Load & Pre-Process"
   ]
  },
  {
   "cell_type": "code",
   "execution_count": 57,
   "metadata": {},
   "outputs": [],
   "source": [
    "def load_and_preprocess_binance_data(file_name='Binance-BTCUSDT.csv'):\n",
    "    global binance_df\n",
    "    \n",
    "    if 'binance_df' not in globals():\n",
    "        file_path = os.path.join(DATA_DIR, file_name)\n",
    "        \n",
    "        if os.path.exists(file_path):\n",
    "            binance_df = pd.read_csv(file_path)\n",
    "            print(f\"Loaded data from {file_path}\")\n",
    "        else:\n",
    "            print(f\"File {file_path} does not exist. Check the path.\")\n",
    "            return\n",
    "    else:\n",
    "        print(\"binance_df is already defined.\")\n",
    "\n",
    "    binance_df['open_time'] = pd.to_datetime(binance_df['open_time'], unit='ms')\n",
    "    binance_df['close_time'] = pd.to_datetime(binance_df['close_time'], unit='ms')\n",
    "    \n",
    "    columns_to_convert = ['open', 'high', 'low', 'close', 'volume', \n",
    "                        'quote_asset_volume', 'number_of_trades', \n",
    "                        'taker_buy_base_asset_volume', 'taker_buy_quote_asset_volume']\n",
    "    binance_df[columns_to_convert] = binance_df[columns_to_convert].apply(pd.to_numeric, errors='coerce')\n",
    "    \n",
    "    binance_df.dropna(inplace=True)\n",
    "    print(\"Data preprocessing complete.\")"
   ]
  },
  {
   "cell_type": "code",
   "execution_count": 58,
   "metadata": {},
   "outputs": [
    {
     "name": "stdout",
     "output_type": "stream",
     "text": [
      "binance_df is already defined.\n",
      "Data preprocessing complete.\n"
     ]
    }
   ],
   "source": [
    "load_and_preprocess_binance_data()"
   ]
  },
  {
   "cell_type": "markdown",
   "metadata": {},
   "source": [
    "#### Visualization"
   ]
  },
  {
   "cell_type": "code",
   "execution_count": 59,
   "metadata": {},
   "outputs": [],
   "source": [
    "def plot_candles(df):\n",
    "    if df.empty:\n",
    "        print(\"The DataFrame is empty. No data to plot.\")\n",
    "        return\n",
    "    \n",
    "    df = df.set_index('open_time')\n",
    "    df.index.name = 'Date'\n",
    "    df = df[['open', 'high', 'low', 'close', 'volume']]\n",
    "    df.columns = ['Open', 'High', 'Low', 'Close', 'Volume']\n",
    "\n",
    "    mpf.plot(df, type='candle', volume=True, style='charles', title=f'Candles')"
   ]
  },
  {
   "cell_type": "code",
   "execution_count": 60,
   "metadata": {},
   "outputs": [
    {
     "data": {
      "image/png": "[encoded data removed]",
      "text/plain": [
       "<Figure size 800x575 with 4 Axes>"
      ]
     },
     "metadata": {},
     "output_type": "display_data"
    }
   ],
   "source": [
    "plot_candles(binance_df[:100])"
   ]
  },
  {
   "cell_type": "markdown",
   "metadata": {},
   "source": [
    "## Handling Missing Data"
   ]
  },
  {
   "cell_type": "markdown",
   "metadata": {},
   "source": [
    "To address missing candles in a time series dataset, particularly for financial data like Bitcoin trading, it's crucial to maintain the continuity and integrity of the data series. Here are a couple of simple strategies that can be used to fill in missing data:\n",
    "\n",
    "1. Carry Forward the Last Known Value (Last Observation Carried Forward - LOCF)\n",
    "    In this method, if a time interval is missing, the data from the last available interval is carried forward to fill the gap. This approach assumes that the market conditions did not change significantly between the missing intervals.\n",
    "\n",
    "2. Simple Average of Adjacent Data Points\n",
    "    This method uses the average of the data points before and after the missing interval to fill the gap. It assumes that the missing data is likely to be similar to the average of the surrounding points.\n",
    "\n",
    "Considerations\n",
    "- Granularity: Given that the data is on a one-minute scale, gaps might not significantly impact the analysis if they are sparse.\n",
    "- Market Conditions: Financial markets can change rapidly, so the chosen method should be as accurate as possible, given the limitations."
   ]
  },
  {
   "cell_type": "code",
   "execution_count": 10,
   "metadata": {},
   "outputs": [],
   "source": [
    "missing_df = pd.read_csv(r'data\\raw data\\btctmn_m1_tabdeal.csv')\n",
    "missing_df.set_index('datetime', inplace=True)"
   ]
  },
  {
   "cell_type": "code",
   "execution_count": 11,
   "metadata": {},
   "outputs": [],
   "source": [
    "if not isinstance(missing_df.index, pd.DatetimeIndex):\n",
    "    missing_df.index = pd.to_datetime(missing_df.index)"
   ]
  },
  {
   "cell_type": "code",
   "execution_count": 12,
   "metadata": {},
   "outputs": [
    {
     "data": {
      "text/html": [
       "<div>\n",
       "<style scoped>\n",
       "    .dataframe tbody tr th:only-of-type {\n",
       "        vertical-align: middle;\n",
       "    }\n",
       "\n",
       "    .dataframe tbody tr th {\n",
       "        vertical-align: top;\n",
       "    }\n",
       "\n",
       "    .dataframe thead th {\n",
       "        text-align: right;\n",
       "    }\n",
       "</style>\n",
       "<table border=\"1\" class=\"dataframe\">\n",
       "  <thead>\n",
       "    <tr style=\"text-align: right;\">\n",
       "      <th></th>\n",
       "      <th>open</th>\n",
       "      <th>high</th>\n",
       "      <th>low</th>\n",
       "      <th>close</th>\n",
       "      <th>volume</th>\n",
       "      <th>exchange</th>\n",
       "      <th>isin</th>\n",
       "    </tr>\n",
       "    <tr>\n",
       "      <th>datetime</th>\n",
       "      <th></th>\n",
       "      <th></th>\n",
       "      <th></th>\n",
       "      <th></th>\n",
       "      <th></th>\n",
       "      <th></th>\n",
       "      <th></th>\n",
       "    </tr>\n",
       "  </thead>\n",
       "  <tbody>\n",
       "    <tr>\n",
       "      <th>2024-03-07 00:04:00</th>\n",
       "      <td>4.043117e+09</td>\n",
       "      <td>4.043117e+09</td>\n",
       "      <td>4.029734e+09</td>\n",
       "      <td>4.029734e+09</td>\n",
       "      <td>0.000629</td>\n",
       "      <td>tabdeal</td>\n",
       "      <td>BTCTMN</td>\n",
       "    </tr>\n",
       "    <tr>\n",
       "      <th>2024-03-07 00:06:00</th>\n",
       "      <td>4.029734e+09</td>\n",
       "      <td>4.032187e+09</td>\n",
       "      <td>4.029734e+09</td>\n",
       "      <td>4.032187e+09</td>\n",
       "      <td>0.002161</td>\n",
       "      <td>tabdeal</td>\n",
       "      <td>BTCTMN</td>\n",
       "    </tr>\n",
       "    <tr>\n",
       "      <th>2024-03-07 00:07:00</th>\n",
       "      <td>4.032187e+09</td>\n",
       "      <td>4.032187e+09</td>\n",
       "      <td>4.029733e+09</td>\n",
       "      <td>4.029733e+09</td>\n",
       "      <td>0.000015</td>\n",
       "      <td>tabdeal</td>\n",
       "      <td>BTCTMN</td>\n",
       "    </tr>\n",
       "    <tr>\n",
       "      <th>2024-03-07 00:08:00</th>\n",
       "      <td>4.029733e+09</td>\n",
       "      <td>4.029733e+09</td>\n",
       "      <td>4.024795e+09</td>\n",
       "      <td>4.024795e+09</td>\n",
       "      <td>0.000070</td>\n",
       "      <td>tabdeal</td>\n",
       "      <td>BTCTMN</td>\n",
       "    </tr>\n",
       "    <tr>\n",
       "      <th>2024-03-07 00:09:00</th>\n",
       "      <td>4.024795e+09</td>\n",
       "      <td>4.024795e+09</td>\n",
       "      <td>4.023868e+09</td>\n",
       "      <td>4.023868e+09</td>\n",
       "      <td>0.000076</td>\n",
       "      <td>tabdeal</td>\n",
       "      <td>BTCTMN</td>\n",
       "    </tr>\n",
       "    <tr>\n",
       "      <th>...</th>\n",
       "      <td>...</td>\n",
       "      <td>...</td>\n",
       "      <td>...</td>\n",
       "      <td>...</td>\n",
       "      <td>...</td>\n",
       "      <td>...</td>\n",
       "      <td>...</td>\n",
       "    </tr>\n",
       "    <tr>\n",
       "      <th>2024-02-28 23:54:00</th>\n",
       "      <td>3.547556e+09</td>\n",
       "      <td>3.547556e+09</td>\n",
       "      <td>3.542859e+09</td>\n",
       "      <td>3.542859e+09</td>\n",
       "      <td>0.006455</td>\n",
       "      <td>tabdeal</td>\n",
       "      <td>BTCTMN</td>\n",
       "    </tr>\n",
       "    <tr>\n",
       "      <th>2024-02-28 23:55:00</th>\n",
       "      <td>3.542859e+09</td>\n",
       "      <td>3.542859e+09</td>\n",
       "      <td>3.537971e+09</td>\n",
       "      <td>3.537971e+09</td>\n",
       "      <td>0.044727</td>\n",
       "      <td>tabdeal</td>\n",
       "      <td>BTCTMN</td>\n",
       "    </tr>\n",
       "    <tr>\n",
       "      <th>2024-02-28 23:56:00</th>\n",
       "      <td>3.537971e+09</td>\n",
       "      <td>3.537971e+09</td>\n",
       "      <td>3.519652e+09</td>\n",
       "      <td>3.527862e+09</td>\n",
       "      <td>0.010667</td>\n",
       "      <td>tabdeal</td>\n",
       "      <td>BTCTMN</td>\n",
       "    </tr>\n",
       "    <tr>\n",
       "      <th>2024-02-28 23:57:00</th>\n",
       "      <td>3.527862e+09</td>\n",
       "      <td>3.530592e+09</td>\n",
       "      <td>3.527862e+09</td>\n",
       "      <td>3.530592e+09</td>\n",
       "      <td>0.011054</td>\n",
       "      <td>tabdeal</td>\n",
       "      <td>BTCTMN</td>\n",
       "    </tr>\n",
       "    <tr>\n",
       "      <th>2024-02-28 23:59:00</th>\n",
       "      <td>3.530592e+09</td>\n",
       "      <td>3.530592e+09</td>\n",
       "      <td>3.523664e+09</td>\n",
       "      <td>3.523664e+09</td>\n",
       "      <td>0.004282</td>\n",
       "      <td>tabdeal</td>\n",
       "      <td>BTCTMN</td>\n",
       "    </tr>\n",
       "  </tbody>\n",
       "</table>\n",
       "<p>589737 rows × 7 columns</p>\n",
       "</div>"
      ],
      "text/plain": [
       "                             open          high           low         close  \\\n",
       "datetime                                                                      \n",
       "2024-03-07 00:04:00  4.043117e+09  4.043117e+09  4.029734e+09  4.029734e+09   \n",
       "2024-03-07 00:06:00  4.029734e+09  4.032187e+09  4.029734e+09  4.032187e+09   \n",
       "2024-03-07 00:07:00  4.032187e+09  4.032187e+09  4.029733e+09  4.029733e+09   \n",
       "2024-03-07 00:08:00  4.029733e+09  4.029733e+09  4.024795e+09  4.024795e+09   \n",
       "2024-03-07 00:09:00  4.024795e+09  4.024795e+09  4.023868e+09  4.023868e+09   \n",
       "...                           ...           ...           ...           ...   \n",
       "2024-02-28 23:54:00  3.547556e+09  3.547556e+09  3.542859e+09  3.542859e+09   \n",
       "2024-02-28 23:55:00  3.542859e+09  3.542859e+09  3.537971e+09  3.537971e+09   \n",
       "2024-02-28 23:56:00  3.537971e+09  3.537971e+09  3.519652e+09  3.527862e+09   \n",
       "2024-02-28 23:57:00  3.527862e+09  3.530592e+09  3.527862e+09  3.530592e+09   \n",
       "2024-02-28 23:59:00  3.530592e+09  3.530592e+09  3.523664e+09  3.523664e+09   \n",
       "\n",
       "                       volume exchange    isin  \n",
       "datetime                                        \n",
       "2024-03-07 00:04:00  0.000629  tabdeal  BTCTMN  \n",
       "2024-03-07 00:06:00  0.002161  tabdeal  BTCTMN  \n",
       "2024-03-07 00:07:00  0.000015  tabdeal  BTCTMN  \n",
       "2024-03-07 00:08:00  0.000070  tabdeal  BTCTMN  \n",
       "2024-03-07 00:09:00  0.000076  tabdeal  BTCTMN  \n",
       "...                       ...      ...     ...  \n",
       "2024-02-28 23:54:00  0.006455  tabdeal  BTCTMN  \n",
       "2024-02-28 23:55:00  0.044727  tabdeal  BTCTMN  \n",
       "2024-02-28 23:56:00  0.010667  tabdeal  BTCTMN  \n",
       "2024-02-28 23:57:00  0.011054  tabdeal  BTCTMN  \n",
       "2024-02-28 23:59:00  0.004282  tabdeal  BTCTMN  \n",
       "\n",
       "[589737 rows x 7 columns]"
      ]
     },
     "execution_count": 12,
     "metadata": {},
     "output_type": "execute_result"
    }
   ],
   "source": [
    "missing_df"
   ]
  },
  {
   "cell_type": "code",
   "execution_count": 15,
   "metadata": {},
   "outputs": [
    {
     "name": "stderr",
     "output_type": "stream",
     "text": [
      "C:\\Users\\Shayan\\AppData\\Local\\Temp\\ipykernel_21920\\3441750221.py:1: FutureWarning: 'T' is deprecated and will be removed in a future version, please use 'min' instead.\n",
      "  df_ffill = missing_df.resample('1T').ffill()\n"
     ]
    }
   ],
   "source": [
    "df_ffill = missing_df.resample('1T').ffill()"
   ]
  },
  {
   "cell_type": "code",
   "execution_count": 14,
   "metadata": {},
   "outputs": [
    {
     "name": "stderr",
     "output_type": "stream",
     "text": [
      "C:\\Users\\Shayan\\AppData\\Local\\Temp\\ipykernel_21920\\3613154220.py:1: FutureWarning: 'T' is deprecated and will be removed in a future version, please use 'min' instead.\n",
      "  df_interpolated = missing_df.resample('1T').interpolate(method='linear')\n",
      "C:\\Users\\Shayan\\AppData\\Local\\Temp\\ipykernel_21920\\3613154220.py:1: FutureWarning: DataFrame.interpolate with object dtype is deprecated and will raise in a future version. Call obj.infer_objects(copy=False) before interpolating instead.\n",
      "  df_interpolated = missing_df.resample('1T').interpolate(method='linear')\n"
     ]
    }
   ],
   "source": [
    "df_interpolated = missing_df.resample('1T').interpolate(method='linear')"
   ]
  },
  {
   "cell_type": "markdown",
   "metadata": {},
   "source": [
    "## Implied USDT-TMN Extraction"
   ]
  },
  {
   "cell_type": "code",
   "execution_count": null,
   "metadata": {},
   "outputs": [],
   "source": [
    "btc_usdt = pd.read_csv('btc_usdt.csv')\n",
    "btc_tmn = pd.read_csv('btc_tmn.csv')"
   ]
  },
  {
   "cell_type": "code",
   "execution_count": null,
   "metadata": {},
   "outputs": [],
   "source": [
    "btc_usdt_close = btc_usdt['close']\n",
    "btc_tmn_close = btc_tmn['close']"
   ]
  },
  {
   "cell_type": "code",
   "execution_count": null,
   "metadata": {},
   "outputs": [],
   "source": [
    "btc_usdt['open_time'] = pd.to_datetime(btc_usdt['open_time'], unit='ms')\n",
    "btc_tmn['datetime'] = pd.to_datetime(btc_tmn['datetime'])"
   ]
  },
  {
   "cell_type": "code",
   "execution_count": null,
   "metadata": {},
   "outputs": [],
   "source": [
    "usdt_tmn_exchange_rate = btc_tmn_close / btc_usdt_close\n",
    "usdt_tmn_price_change = usdt_tmn_exchange_rate.pct_change()"
   ]
  }
 ],
 "metadata": {
  "kernelspec": {
   "display_name": "Python 3",
   "language": "python",
   "name": "python3"
  },
  "language_info": {
   "codemirror_mode": {
    "name": "ipython",
    "version": 3
   },
   "file_extension": ".py",
   "mimetype": "text/x-python",
   "name": "python",
   "nbconvert_exporter": "python",
   "pygments_lexer": "ipython3",
   "version": "3.12.3"
  }
 },
 "nbformat": 4,
 "nbformat_minor": 2
}
